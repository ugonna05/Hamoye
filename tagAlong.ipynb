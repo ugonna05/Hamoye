{
 "cells": [
  {
   "cell_type": "code",
   "execution_count": 32,
   "id": "fb046c2c",
   "metadata": {},
   "outputs": [],
   "source": [
    "import numpy as np \n",
    "import pandas as pd \n",
    "import matplotlib.pyplot as plt \n",
    "df=pd.read_csv( \"Time_series_analysis_and_forecast_DATASET.csv\" ) "
   ]
  },
  {
   "cell_type": "code",
   "execution_count": 33,
   "id": "22b23668",
   "metadata": {},
   "outputs": [
    {
     "data": {
      "text/html": [
       "<div>\n",
       "<style scoped>\n",
       "    .dataframe tbody tr th:only-of-type {\n",
       "        vertical-align: middle;\n",
       "    }\n",
       "\n",
       "    .dataframe tbody tr th {\n",
       "        vertical-align: top;\n",
       "    }\n",
       "\n",
       "    .dataframe thead th {\n",
       "        text-align: right;\n",
       "    }\n",
       "</style>\n",
       "<table border=\"1\" class=\"dataframe\">\n",
       "  <thead>\n",
       "    <tr style=\"text-align: right;\">\n",
       "      <th></th>\n",
       "      <th>FullDate</th>\n",
       "      <th>Tmax</th>\n",
       "      <th>SysLoad</th>\n",
       "      <th>GasPrice</th>\n",
       "      <th>ElecPrice</th>\n",
       "    </tr>\n",
       "  </thead>\n",
       "  <tbody>\n",
       "    <tr>\n",
       "      <th>0</th>\n",
       "      <td>2010-09-01 00:00:00</td>\n",
       "      <td>15.8</td>\n",
       "      <td>1688.21500</td>\n",
       "      <td>3.6900</td>\n",
       "      <td>23.710</td>\n",
       "    </tr>\n",
       "    <tr>\n",
       "      <th>1</th>\n",
       "      <td>2010-09-01 01:00:00</td>\n",
       "      <td>15.8</td>\n",
       "      <td>1669.19500</td>\n",
       "      <td>3.6900</td>\n",
       "      <td>22.635</td>\n",
       "    </tr>\n",
       "    <tr>\n",
       "      <th>2</th>\n",
       "      <td>2010-09-01 02:00:00</td>\n",
       "      <td>15.8</td>\n",
       "      <td>1491.98000</td>\n",
       "      <td>3.6900</td>\n",
       "      <td>22.565</td>\n",
       "    </tr>\n",
       "    <tr>\n",
       "      <th>3</th>\n",
       "      <td>2010-09-01 03:00:00</td>\n",
       "      <td>15.8</td>\n",
       "      <td>1330.76000</td>\n",
       "      <td>3.6900</td>\n",
       "      <td>18.910</td>\n",
       "    </tr>\n",
       "    <tr>\n",
       "      <th>4</th>\n",
       "      <td>2010-09-01 04:00:00</td>\n",
       "      <td>15.8</td>\n",
       "      <td>1247.94000</td>\n",
       "      <td>3.6900</td>\n",
       "      <td>18.030</td>\n",
       "    </tr>\n",
       "    <tr>\n",
       "      <th>...</th>\n",
       "      <td>...</td>\n",
       "      <td>...</td>\n",
       "      <td>...</td>\n",
       "      <td>...</td>\n",
       "      <td>...</td>\n",
       "    </tr>\n",
       "    <tr>\n",
       "      <th>92011</th>\n",
       "      <td>2021-02-28 19:00:00</td>\n",
       "      <td>24.3</td>\n",
       "      <td>449.63625</td>\n",
       "      <td>5.4848</td>\n",
       "      <td>117.925</td>\n",
       "    </tr>\n",
       "    <tr>\n",
       "      <th>92012</th>\n",
       "      <td>2021-02-28 20:00:00</td>\n",
       "      <td>24.3</td>\n",
       "      <td>815.59975</td>\n",
       "      <td>5.4848</td>\n",
       "      <td>87.880</td>\n",
       "    </tr>\n",
       "    <tr>\n",
       "      <th>92013</th>\n",
       "      <td>2021-02-28 21:00:00</td>\n",
       "      <td>24.3</td>\n",
       "      <td>745.12325</td>\n",
       "      <td>5.4848</td>\n",
       "      <td>62.060</td>\n",
       "    </tr>\n",
       "    <tr>\n",
       "      <th>92014</th>\n",
       "      <td>2021-02-28 22:00:00</td>\n",
       "      <td>24.3</td>\n",
       "      <td>694.95150</td>\n",
       "      <td>5.4848</td>\n",
       "      <td>62.000</td>\n",
       "    </tr>\n",
       "    <tr>\n",
       "      <th>92015</th>\n",
       "      <td>2021-02-28 23:00:00</td>\n",
       "      <td>24.3</td>\n",
       "      <td>714.69630</td>\n",
       "      <td>5.4848</td>\n",
       "      <td>62.955</td>\n",
       "    </tr>\n",
       "  </tbody>\n",
       "</table>\n",
       "<p>92016 rows × 5 columns</p>\n",
       "</div>"
      ],
      "text/plain": [
       "                  FullDate  Tmax     SysLoad  GasPrice  ElecPrice\n",
       "0      2010-09-01 00:00:00  15.8  1688.21500    3.6900     23.710\n",
       "1      2010-09-01 01:00:00  15.8  1669.19500    3.6900     22.635\n",
       "2      2010-09-01 02:00:00  15.8  1491.98000    3.6900     22.565\n",
       "3      2010-09-01 03:00:00  15.8  1330.76000    3.6900     18.910\n",
       "4      2010-09-01 04:00:00  15.8  1247.94000    3.6900     18.030\n",
       "...                    ...   ...         ...       ...        ...\n",
       "92011  2021-02-28 19:00:00  24.3   449.63625    5.4848    117.925\n",
       "92012  2021-02-28 20:00:00  24.3   815.59975    5.4848     87.880\n",
       "92013  2021-02-28 21:00:00  24.3   745.12325    5.4848     62.060\n",
       "92014  2021-02-28 22:00:00  24.3   694.95150    5.4848     62.000\n",
       "92015  2021-02-28 23:00:00  24.3   714.69630    5.4848     62.955\n",
       "\n",
       "[92016 rows x 5 columns]"
      ]
     },
     "execution_count": 33,
     "metadata": {},
     "output_type": "execute_result"
    }
   ],
   "source": [
    "df"
   ]
  },
  {
   "cell_type": "code",
   "execution_count": 34,
   "id": "deadb109",
   "metadata": {},
   "outputs": [],
   "source": [
    "# reformat the datetime\n",
    "df['FullDate']=pd.to_datetime(df['FullDate'])"
   ]
  },
  {
   "cell_type": "code",
   "execution_count": 35,
   "id": "0ef0d4ba",
   "metadata": {},
   "outputs": [],
   "source": [
    "#remove the outliers\n",
    "df = df[(df.ElecPrice > df.ElecPrice.quantile(.05)) & (df.ElecPrice < df.ElecPrice.quantile(.95)) ]"
   ]
  },
  {
   "cell_type": "code",
   "execution_count": 36,
   "id": "86ca06fa",
   "metadata": {},
   "outputs": [],
   "source": [
    "# Resample to daily frequency\n",
    "df = df.resample('D', on='FullDate').sum()"
   ]
  },
  {
   "cell_type": "code",
   "execution_count": 37,
   "id": "77faef99",
   "metadata": {},
   "outputs": [
    {
     "data": {
      "text/html": [
       "<div>\n",
       "<style scoped>\n",
       "    .dataframe tbody tr th:only-of-type {\n",
       "        vertical-align: middle;\n",
       "    }\n",
       "\n",
       "    .dataframe tbody tr th {\n",
       "        vertical-align: top;\n",
       "    }\n",
       "\n",
       "    .dataframe thead th {\n",
       "        text-align: right;\n",
       "    }\n",
       "</style>\n",
       "<table border=\"1\" class=\"dataframe\">\n",
       "  <thead>\n",
       "    <tr style=\"text-align: right;\">\n",
       "      <th></th>\n",
       "      <th>FullDate</th>\n",
       "      <th>Tmax</th>\n",
       "      <th>SysLoad</th>\n",
       "      <th>GasPrice</th>\n",
       "      <th>ElecPrice</th>\n",
       "    </tr>\n",
       "  </thead>\n",
       "  <tbody>\n",
       "    <tr>\n",
       "      <th>0</th>\n",
       "      <td>2010-09-01</td>\n",
       "      <td>363.4</td>\n",
       "      <td>39557.790</td>\n",
       "      <td>84.87</td>\n",
       "      <td>608.705</td>\n",
       "    </tr>\n",
       "    <tr>\n",
       "      <th>1</th>\n",
       "      <td>2010-09-02</td>\n",
       "      <td>369.6</td>\n",
       "      <td>38898.990</td>\n",
       "      <td>88.56</td>\n",
       "      <td>570.810</td>\n",
       "    </tr>\n",
       "    <tr>\n",
       "      <th>2</th>\n",
       "      <td>2010-09-03</td>\n",
       "      <td>384.3</td>\n",
       "      <td>38068.815</td>\n",
       "      <td>93.45</td>\n",
       "      <td>493.875</td>\n",
       "    </tr>\n",
       "    <tr>\n",
       "      <th>3</th>\n",
       "      <td>2010-09-04</td>\n",
       "      <td>274.0</td>\n",
       "      <td>30940.035</td>\n",
       "      <td>67.80</td>\n",
       "      <td>464.490</td>\n",
       "    </tr>\n",
       "    <tr>\n",
       "      <th>4</th>\n",
       "      <td>2010-09-05</td>\n",
       "      <td>298.0</td>\n",
       "      <td>31132.120</td>\n",
       "      <td>89.00</td>\n",
       "      <td>479.035</td>\n",
       "    </tr>\n",
       "  </tbody>\n",
       "</table>\n",
       "</div>"
      ],
      "text/plain": [
       "    FullDate   Tmax    SysLoad  GasPrice  ElecPrice\n",
       "0 2010-09-01  363.4  39557.790     84.87    608.705\n",
       "1 2010-09-02  369.6  38898.990     88.56    570.810\n",
       "2 2010-09-03  384.3  38068.815     93.45    493.875\n",
       "3 2010-09-04  274.0  30940.035     67.80    464.490\n",
       "4 2010-09-05  298.0  31132.120     89.00    479.035"
      ]
     },
     "execution_count": 37,
     "metadata": {},
     "output_type": "execute_result"
    }
   ],
   "source": [
    "df = df.reset_index()\n",
    "df.head()"
   ]
  },
  {
   "cell_type": "code",
   "execution_count": 38,
   "id": "028fa7d2",
   "metadata": {},
   "outputs": [],
   "source": [
    "df1 = df[['FullDate', 'ElecPrice']].copy()\n",
    "df1.rename(columns={'FullDate': 'ds', 'ElecPrice': 'y'}, inplace=True)"
   ]
  },
  {
   "cell_type": "code",
   "execution_count": 39,
   "id": "4d3b6f65",
   "metadata": {},
   "outputs": [],
   "source": [
    "train = df1[:2757]\n",
    "test = df1[2757:]"
   ]
  },
  {
   "cell_type": "code",
   "execution_count": 40,
   "id": "105b7b8b",
   "metadata": {},
   "outputs": [],
   "source": [
    "from prophet import Prophet"
   ]
  },
  {
   "cell_type": "code",
   "execution_count": 41,
   "id": "c82d109f",
   "metadata": {},
   "outputs": [
    {
     "name": "stderr",
     "output_type": "stream",
     "text": [
      "23:02:43 - cmdstanpy - INFO - Chain [1] start processing\n",
      "23:02:44 - cmdstanpy - INFO - Chain [1] done processing\n"
     ]
    },
    {
     "data": {
      "text/plain": [
       "<prophet.forecaster.Prophet at 0x1fdc8941460>"
      ]
     },
     "execution_count": 41,
     "metadata": {},
     "output_type": "execute_result"
    }
   ],
   "source": [
    "model = Prophet()\n",
    "model.fit(train[['ds', 'y']])"
   ]
  },
  {
   "cell_type": "code",
   "execution_count": 44,
   "id": "8e5c13e3",
   "metadata": {},
   "outputs": [
    {
     "data": {
      "text/html": [
       "<div>\n",
       "<style scoped>\n",
       "    .dataframe tbody tr th:only-of-type {\n",
       "        vertical-align: middle;\n",
       "    }\n",
       "\n",
       "    .dataframe tbody tr th {\n",
       "        vertical-align: top;\n",
       "    }\n",
       "\n",
       "    .dataframe thead th {\n",
       "        text-align: right;\n",
       "    }\n",
       "</style>\n",
       "<table border=\"1\" class=\"dataframe\">\n",
       "  <thead>\n",
       "    <tr style=\"text-align: right;\">\n",
       "      <th></th>\n",
       "      <th>ds</th>\n",
       "      <th>yhat</th>\n",
       "      <th>yhat_lower</th>\n",
       "      <th>yhat_upper</th>\n",
       "    </tr>\n",
       "  </thead>\n",
       "  <tbody>\n",
       "    <tr>\n",
       "      <th>3829</th>\n",
       "      <td>2021-02-24</td>\n",
       "      <td>3764.072979</td>\n",
       "      <td>2874.754370</td>\n",
       "      <td>4784.007932</td>\n",
       "    </tr>\n",
       "    <tr>\n",
       "      <th>3830</th>\n",
       "      <td>2021-02-25</td>\n",
       "      <td>3766.310600</td>\n",
       "      <td>2870.421076</td>\n",
       "      <td>4770.733901</td>\n",
       "    </tr>\n",
       "    <tr>\n",
       "      <th>3831</th>\n",
       "      <td>2021-02-26</td>\n",
       "      <td>3773.788775</td>\n",
       "      <td>2882.224745</td>\n",
       "      <td>4726.545279</td>\n",
       "    </tr>\n",
       "    <tr>\n",
       "      <th>3832</th>\n",
       "      <td>2021-02-27</td>\n",
       "      <td>3683.978443</td>\n",
       "      <td>2852.382187</td>\n",
       "      <td>4696.771224</td>\n",
       "    </tr>\n",
       "    <tr>\n",
       "      <th>3833</th>\n",
       "      <td>2021-02-28</td>\n",
       "      <td>3620.348843</td>\n",
       "      <td>2707.022286</td>\n",
       "      <td>4582.032813</td>\n",
       "    </tr>\n",
       "  </tbody>\n",
       "</table>\n",
       "</div>"
      ],
      "text/plain": [
       "             ds         yhat   yhat_lower   yhat_upper\n",
       "3829 2021-02-24  3764.072979  2874.754370  4784.007932\n",
       "3830 2021-02-25  3766.310600  2870.421076  4770.733901\n",
       "3831 2021-02-26  3773.788775  2882.224745  4726.545279\n",
       "3832 2021-02-27  3683.978443  2852.382187  4696.771224\n",
       "3833 2021-02-28  3620.348843  2707.022286  4582.032813"
      ]
     },
     "execution_count": 44,
     "metadata": {},
     "output_type": "execute_result"
    }
   ],
   "source": [
    "# make prediction\n",
    "\n",
    "future = model.make_future_dataframe(periods=len(test))\n",
    "forecast = model.predict(future)\n",
    "forecast[['ds', 'yhat', 'yhat_lower', 'yhat_upper']].tail()"
   ]
  },
  {
   "cell_type": "code",
   "execution_count": 46,
   "id": "9451006a",
   "metadata": {},
   "outputs": [
    {
     "name": "stdout",
     "output_type": "stream",
     "text": [
      "Mean Squared Error 3226815.859700519\n",
      "Mean Absolute Error 1544.373896377224\n"
     ]
    }
   ],
   "source": [
    "# evaluate model performance\n",
    "\n",
    "from sklearn.metrics import mean_squared_error, mean_absolute_error\n",
    "prediction = forecast[2757:]['yhat'].values\n",
    "test_set = test['y'].values\n",
    "mse = mean_squared_error(test_set, prediction)\n",
    "mae = mean_absolute_error(test_set, prediction)\n",
    "print('Mean Squared Error', mse)\n",
    "print('Mean Absolute Error', mae)"
   ]
  },
  {
   "cell_type": "code",
   "execution_count": null,
   "id": "d0c0c3b0",
   "metadata": {},
   "outputs": [],
   "source": []
  }
 ],
 "metadata": {
  "kernelspec": {
   "display_name": "Python 3 (ipykernel)",
   "language": "python",
   "name": "python3"
  },
  "language_info": {
   "codemirror_mode": {
    "name": "ipython",
    "version": 3
   },
   "file_extension": ".py",
   "mimetype": "text/x-python",
   "name": "python",
   "nbconvert_exporter": "python",
   "pygments_lexer": "ipython3",
   "version": "3.9.13"
  }
 },
 "nbformat": 4,
 "nbformat_minor": 5
}
